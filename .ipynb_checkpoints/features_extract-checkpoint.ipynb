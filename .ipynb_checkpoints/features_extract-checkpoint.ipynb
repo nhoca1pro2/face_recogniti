{
 "cells": [
  {
   "cell_type": "code",
   "execution_count": 1,
   "metadata": {
    "pycharm": {
     "is_executing": false
    }
   },
   "outputs": [],
   "source": [
    "from imutils import paths\n",
    "import face_recognition\n",
    "import pickle\n",
    "import cv2\n",
    "import os\n",
    "import numpy as np"
   ]
  },
  {
   "cell_type": "code",
   "execution_count": 2,
   "metadata": {
    "pycharm": {
     "is_executing": false
    }
   },
   "outputs": [
    {
     "name": "stdout",
     "text": [
      "[INFO] Extracting features from images\n"
     ],
     "output_type": "stream"
    }
   ],
   "source": [
    "print(\"[INFO] Extracting features from images\")\n",
    "imagePaths = list(paths.list_images('images'))\n",
    " \n",
    "# initialize the list of known encodings and known names\n",
    "features = []\n",
    "knownNames = []"
   ]
  },
  {
   "cell_type": "code",
   "execution_count": 4,
   "metadata": {
    "pycharm": {
     "is_executing": false
    }
   },
   "outputs": [],
   "source": [
    "for (i, imagePath) in enumerate(imagePaths):\n",
    "    # extract the person name from the image path\n",
    "    print(\"[INFO] processing image {}/{}\".format(i + 1,len(imagePaths)))\n",
    "    name = imagePath.split(os.path.sep)[-2]\n",
    " \n",
    "    # load the input image \n",
    "    image = cv2.imread(imagePath)\n",
    "    image = cv2.resize(image, (1040, 1520))\n",
    "\n",
    "    # detect the (x, y)-coordinates of the bounding boxes\n",
    "    # corresponding to each face in the input image\n",
    "    box = face_recognition.face_locations(image,number_of_times_to_upsample=0,model='cnn')\n",
    "    \n",
    "    # compute the facial embedding for the face\n",
    "    if len(box) != 1:\n",
    "        # If there are no people (or too many people) in a training image, skip the image.\n",
    "        print(\"!!!!!!!error\",imagePath)\n",
    "    else:\n",
    "        fea = face_recognition.face_encodings(image, box)[0]\n",
    "        fea = np.asarray(fea,dtype=np.float32)\n",
    "        # add each image's features + name to our set of known names and features\n",
    "\n",
    "        features.append(fea)\n",
    "        knownNames.append(name)"
   ]
  },
  {
   "cell_type": "code",
   "execution_count": 9,
   "metadata": {
    "pycharm": {
     "is_executing": false
    }
   },
   "outputs": [
    {
     "name": "stdout",
     "text": [
      "[INFO] serializing encodings...\n"
     ],
     "output_type": "stream"
    },
    {
     "traceback": [
      "\u001b[1;31m---------------------------------------------------------------------------\u001b[0m",
      "\u001b[1;31mFileNotFoundError\u001b[0m                         Traceback (most recent call last)",
      "\u001b[1;32m<ipython-input-9-71ec8b2637d4>\u001b[0m in \u001b[0;36m<module>\u001b[1;34m\u001b[0m\n\u001b[0;32m      2\u001b[0m \u001b[0mprint\u001b[0m\u001b[1;33m(\u001b[0m\u001b[1;34m\"[INFO] serializing encodings...\"\u001b[0m\u001b[1;33m)\u001b[0m\u001b[1;33m\u001b[0m\u001b[1;33m\u001b[0m\u001b[0m\n\u001b[0;32m      3\u001b[0m \u001b[0mdata\u001b[0m \u001b[1;33m=\u001b[0m \u001b[1;33m{\u001b[0m\u001b[1;34m\"encodings\"\u001b[0m\u001b[1;33m:\u001b[0m \u001b[0mfeatures\u001b[0m\u001b[1;33m,\u001b[0m \u001b[1;34m\"names\"\u001b[0m\u001b[1;33m:\u001b[0m \u001b[0mknownNames\u001b[0m\u001b[1;33m}\u001b[0m\u001b[1;33m\u001b[0m\u001b[1;33m\u001b[0m\u001b[0m\n\u001b[1;32m----> 4\u001b[1;33m \u001b[0mf\u001b[0m \u001b[1;33m=\u001b[0m \u001b[0mopen\u001b[0m\u001b[1;33m(\u001b[0m\u001b[1;34m'image_features\\\\features.pickle'\u001b[0m\u001b[1;33m,\u001b[0m \u001b[1;34m\"wb\"\u001b[0m\u001b[1;33m)\u001b[0m\u001b[1;33m\u001b[0m\u001b[1;33m\u001b[0m\u001b[0m\n\u001b[0m\u001b[0;32m      5\u001b[0m \u001b[0mf\u001b[0m\u001b[1;33m.\u001b[0m\u001b[0mwrite\u001b[0m\u001b[1;33m(\u001b[0m\u001b[0mpickle\u001b[0m\u001b[1;33m.\u001b[0m\u001b[0mdumps\u001b[0m\u001b[1;33m(\u001b[0m\u001b[0mdata\u001b[0m\u001b[1;33m)\u001b[0m\u001b[1;33m)\u001b[0m\u001b[1;33m\u001b[0m\u001b[1;33m\u001b[0m\u001b[0m\n\u001b[0;32m      6\u001b[0m \u001b[0mf\u001b[0m\u001b[1;33m.\u001b[0m\u001b[0mclose\u001b[0m\u001b[1;33m(\u001b[0m\u001b[1;33m)\u001b[0m\u001b[1;33m\u001b[0m\u001b[1;33m\u001b[0m\u001b[0m\n",
      "\u001b[1;31mFileNotFoundError\u001b[0m: [Errno 2] No such file or directory: 'image_features\\\\features.pickle'"
     ],
     "ename": "FileNotFoundError",
     "evalue": "[Errno 2] No such file or directory: 'image_features\\\\features.pickle'",
     "output_type": "error"
    }
   ],
   "source": [
    "# dump the facial encodings + names to disk\n",
    "print(\"[INFO] serializing encodings...\")\n",
    "data = {\"encodings\": features, \"names\": knownNames}\n",
    "f = open('image_features\\\\features.pickle', \"wb\")\n",
    "f.write(pickle.dumps(data))\n",
    "f.close()\n",
    "print(\"Done!\")"
   ]
  },
  {
   "cell_type": "code",
   "execution_count": 10,
   "metadata": {
    "pycharm": {
     "is_executing": false
    }
   },
   "outputs": [
    {
     "traceback": [
      "\u001b[1;31m---------------------------------------------------------------------------\u001b[0m",
      "\u001b[1;31mNameError\u001b[0m                                 Traceback (most recent call last)",
      "\u001b[1;32m<ipython-input-10-1c83375060d0>\u001b[0m in \u001b[0;36m<module>\u001b[1;34m\u001b[0m\n\u001b[1;32m----> 1\u001b[1;33m \u001b[0mimage\u001b[0m\u001b[1;33m.\u001b[0m\u001b[0mshape\u001b[0m\u001b[1;33m\u001b[0m\u001b[1;33m\u001b[0m\u001b[0m\n\u001b[0m",
      "\u001b[1;31mNameError\u001b[0m: name 'image' is not defined"
     ],
     "ename": "NameError",
     "evalue": "name 'image' is not defined",
     "output_type": "error"
    }
   ],
   "source": [
    "image.shape"
   ]
  },
  {
   "cell_type": "code",
   "execution_count": 2,
   "metadata": {},
   "outputs": [],
   "source": [
    "data = pickle.loads(open('image_features\\\\features.pickle', \"rb\").read())"
   ]
  },
  {
   "cell_type": "code",
   "execution_count": 11,
   "metadata": {
    "pycharm": {
     "is_executing": false
    }
   },
   "outputs": [],
   "source": [
    "imagePaths = list(paths.list_images('test images'))"
   ]
  },
  {
   "cell_type": "code",
   "execution_count": 12,
   "metadata": {
    "pycharm": {
     "is_executing": false
    }
   },
   "outputs": [],
   "source": [
    "tfeatures = []\n",
    "tknownNames = []"
   ]
  },
  {
   "cell_type": "code",
   "execution_count": 13,
   "metadata": {
    "pycharm": {
     "is_executing": false
    }
   },
   "outputs": [],
   "source": [
    "for (i, imagePath) in enumerate(imagePaths):\n",
    "    # extract the person name from the image path\n",
    "    print(\"[INFO] processing image {}/{}\".format(i + 1,len(imagePaths)))\n",
    "    name = imagePath.split(os.path.sep)[-2]\n",
    " \n",
    "    # load the input image \n",
    "    image = cv2.imread(imagePath)\n",
    "    #image = cv2.resize(image, (1040, 1520))\n",
    "\n",
    "    # detect the (x, y)-coordinates of the bounding boxes\n",
    "    # corresponding to each face in the input image\n",
    "    box = face_recognition.face_locations(image, model='hog')\n",
    "    \n",
    "    # compute the facial embedding for the face\n",
    "    if len(box) != 1:\n",
    "        # If there are no people (or too many people) in a training image, skip the image.\n",
    "        print(\"!!!!!!!error\",imagePath)\n",
    "    else:\n",
    "        fea = face_recognition.face_encodings(image, box)[0]\n",
    "        fea = np.asarray(fea,dtype=np.float32)\n",
    "        # add each image's features + name to our set of known names and features\n",
    "\n",
    "        tfeatures.append(fea)\n",
    "        tknownNames.append(name)"
   ]
  },
  {
   "cell_type": "code",
   "execution_count": 14,
   "metadata": {
    "pycharm": {
     "is_executing": false
    }
   },
   "outputs": [
    {
     "data": {
      "text/plain": "[]"
     },
     "metadata": {},
     "output_type": "execute_result",
     "execution_count": 14
    }
   ],
   "source": [
    "imagePaths"
   ]
  },
  {
   "cell_type": "code",
   "execution_count": null,
   "metadata": {},
   "outputs": [],
   "source": []
  }
 ],
 "metadata": {
  "kernelspec": {
   "display_name": "Python 3",
   "language": "python",
   "name": "python3"
  },
  "language_info": {
   "codemirror_mode": {
    "name": "ipython",
    "version": 3
   },
   "file_extension": ".py",
   "mimetype": "text/x-python",
   "name": "python",
   "nbconvert_exporter": "python",
   "pygments_lexer": "ipython3",
   "version": "3.6.6"
  }
 },
 "nbformat": 4,
 "nbformat_minor": 2
}