{
 "cells": [
  {
   "cell_type": "code",
   "execution_count": 12,
   "metadata": {
    "pycharm": {
     "is_executing": false
    }
   },
   "outputs": [],
   "source": [
    "from imutils import paths\n",
    "import face_recognition\n",
    "import pickle\n",
    "import cv2\n",
    "import os\n",
    "import numpy as np"
   ]
  },
  {
   "cell_type": "code",
   "execution_count": 2,
   "metadata": {
    "pycharm": {
     "is_executing": false
    }
   },
   "outputs": [
    {
     "name": "stdout",
     "text": [
      "[INFO] Extracting features from images\n"
     ],
     "output_type": "stream"
    }
   ],
   "source": [
    "print(\"[INFO] Extracting features from images\")\n",
    "imagePaths = list(paths.list_images('images'))\n",
    " \n",
    "# initialize the list of known encodings and known names\n",
    "features = []\n",
    "knownNames = []"
   ]
  },
  {
   "cell_type": "code",
   "execution_count": 3,
   "metadata": {
    "pycharm": {
     "is_executing": false
    }
   },
   "outputs": [],
   "source": [
    "def image_resize(image, width = None, height = None, inter = cv2.INTER_AREA):\n",
    "    # initialize the dimensions of the image to be resized and\n",
    "    # grab the image size\n",
    "    dim = None\n",
    "    (h, w) = image.shape[:2]\n",
    "\n",
    "    # if both the width and height are None, then return the\n",
    "    # original image\n",
    "    if width is None and height is None:\n",
    "        return image\n",
    "\n",
    "    # check to see if the width is None\n",
    "    if width is None:\n",
    "        # calculate the ratio of the height and construct the\n",
    "        # dimensions\n",
    "        r = height / float(h)\n",
    "        dim = (int(w * r), height)\n",
    "\n",
    "    # otherwise, the height is None\n",
    "    else:\n",
    "        # calculate the ratio of the width and construct the\n",
    "        # dimensions\n",
    "        r = width / float(w)\n",
    "        dim = (width, int(h * r))\n",
    "\n",
    "    # resize the image\n",
    "    resized = cv2.resize(image, dim, interpolation = inter)\n",
    "\n",
    "    # return the resized image\n",
    "    return resized"
   ]
  },
  {
   "cell_type": "code",
   "execution_count": 4,
   "metadata": {
    "pycharm": {
     "is_executing": false
    }
   },
   "outputs": [
    {
     "name": "stdout",
     "text": [
      "[INFO] processing image 1/97\n",
      "[INFO] processing image 2/97\n",
      "[INFO] processing image 3/97\n",
      "[INFO] processing image 4/97\n",
      "[INFO] processing image 5/97\n",
      "[INFO] processing image 6/97\n",
      "[INFO] processing image 7/97\n",
      "[INFO] processing image 8/97\n",
      "[INFO] processing image 9/97\n",
      "[INFO] processing image 10/97\n",
      "[INFO] processing image 11/97\n",
      "[INFO] processing image 12/97\n",
      "[INFO] processing image 13/97\n",
      "[INFO] processing image 14/97\n",
      "[INFO] processing image 15/97\n",
      "[INFO] processing image 16/97\n",
      "[INFO] processing image 17/97\n",
      "[INFO] processing image 18/97\n",
      "[INFO] processing image 19/97\n",
      "[INFO] processing image 20/97\n",
      "[INFO] processing image 21/97\n",
      "[INFO] processing image 22/97\n",
      "[INFO] processing image 23/97\n",
      "[INFO] processing image 24/97\n",
      "[INFO] processing image 25/97\n",
      "[INFO] processing image 26/97\n",
      "[INFO] processing image 27/97\n",
      "[INFO] processing image 28/97\n",
      "[INFO] processing image 29/97\n",
      "[INFO] processing image 30/97\n",
      "[INFO] processing image 31/97\n",
      "[INFO] processing image 32/97\n",
      "[INFO] processing image 33/97\n",
      "[INFO] processing image 34/97\n",
      "[INFO] processing image 35/97\n",
      "[INFO] processing image 36/97\n",
      "[INFO] processing image 37/97\n",
      "[INFO] processing image 38/97\n",
      "[INFO] processing image 39/97\n",
      "[INFO] processing image 40/97\n",
      "!!!!!!!error images\\Luong\\IMG_2714.JPG\n[INFO] processing image 41/97\n",
      "[INFO] processing image 42/97\n",
      "[INFO] processing image 43/97\n",
      "[INFO] processing image 44/97\n",
      "[INFO] processing image 45/97\n",
      "[INFO] processing image 46/97\n",
      "[INFO] processing image 47/97\n",
      "[INFO] processing image 48/97\n",
      "[INFO] processing image 49/97\n!!!!!!!error images\\Unkown\\00000002.jpg\n[INFO] processing image 50/97\n",
      "[INFO] processing image 51/97\n",
      "[INFO] processing image 52/97\n",
      "[INFO] processing image 53/97\n!!!!!!!error images\\Unkown\\00000028.png\n[INFO] processing image 54/97\n",
      "[INFO] processing image 55/97\n",
      "[INFO] processing image 56/97\n",
      "[INFO] processing image 57/97\n",
      "!!!!!!!error images\\Unkown\\00000065.jpg\n[INFO] processing image 58/97\n",
      "[INFO] processing image 59/97\n",
      "!!!!!!!error images\\Unkown\\00000080.jpg\n[INFO] processing image 60/97\n",
      "[INFO] processing image 61/97\n",
      "[INFO] processing image 62/97\n",
      "[INFO] processing image 63/97\n",
      "[INFO] processing image 64/97\n",
      "[INFO] processing image 65/97\n",
      "[INFO] processing image 66/97\n",
      "[INFO] processing image 67/97\n",
      "[INFO] processing image 68/97\n",
      "[INFO] processing image 69/97\n",
      "[INFO] processing image 70/97\n",
      "[INFO] processing image 71/97\n",
      "[INFO] processing image 72/97\n",
      "[INFO] processing image 73/97\n",
      "[INFO] processing image 74/97\n",
      "[INFO] processing image 75/97\n",
      "[INFO] processing image 76/97\n",
      "[INFO] processing image 77/97\n",
      "[INFO] processing image 78/97\n",
      "[INFO] processing image 79/97\n",
      "[INFO] processing image 80/97\n",
      "[INFO] processing image 81/97\n",
      "[INFO] processing image 82/97\n",
      "[INFO] processing image 83/97\n",
      "[INFO] processing image 84/97\n",
      "[INFO] processing image 85/97\n",
      "[INFO] processing image 86/97\n",
      "[INFO] processing image 87/97\n",
      "[INFO] processing image 88/97\n",
      "[INFO] processing image 89/97\n",
      "[INFO] processing image 90/97\n",
      "[INFO] processing image 91/97\n",
      "[INFO] processing image 92/97\n",
      "[INFO] processing image 93/97\n",
      "[INFO] processing image 94/97\n",
      "[INFO] processing image 95/97\n",
      "[INFO] processing image 96/97\n",
      "[INFO] processing image 97/97\n"
     ],
     "output_type": "stream"
    }
   ],
   "source": [
    "for (i, imagePath) in enumerate(imagePaths):\n",
    "    # extract the person name from the image path\n",
    "    print(\"[INFO] processing image {}/{}\".format(i + 1,len(imagePaths)))\n",
    "    name = imagePath.split(os.path.sep)[-2]\n",
    " \n",
    "    # load the input image \n",
    "    im = cv2.imread(imagePath)\n",
    "    image = image_resize(im, height = 960)\n",
    "\n",
    "    # detect the (x, y)-coordinates of the bounding boxes\n",
    "    # corresponding to each face in the input image\n",
    "    box = face_recognition.face_locations(image,number_of_times_to_upsample=0,model='hog')\n",
    "    \n",
    "    # compute the facial embedding for the face\n",
    "    if len(box) != 1:\n",
    "        # If there are no people (or too many people) in a training image, skip the image.\n",
    "        print(\"!!!!!!!error\",imagePath)\n",
    "    else:\n",
    "        fea = face_recognition.face_encodings(image, box)[0]\n",
    "        fea = np.asarray(fea,dtype=np.float32)\n",
    "        # add each image's features + name to our set of known names and features\n",
    "\n",
    "        features.append(fea)\n",
    "        knownNames.append(name)"
   ]
  },
  {
   "cell_type": "code",
   "execution_count": 5,
   "metadata": {
    "pycharm": {
     "is_executing": false
    }
   },
   "outputs": [
    {
     "name": "stdout",
     "text": [
      "[INFO] serializing encodings...\nDone!\n"
     ],
     "output_type": "stream"
    }
   ],
   "source": [
    "# dump the facial encodings + names to disk\n",
    "print(\"[INFO] serializing encodings...\")\n",
    "data = {\"encodings\": features, \"names\": knownNames}\n",
    "f = open('image_features\\\\features.pickle', \"wb\")\n",
    "f.write(pickle.dumps(data))\n",
    "f.close()\n",
    "print(\"Done!\")"
   ]
  },
  {
   "cell_type": "code",
   "execution_count": 6,
   "metadata": {
    "pycharm": {
     "is_executing": false
    }
   },
   "outputs": [
    {
     "data": {
      "text/plain": "(960, 960, 3)"
     },
     "metadata": {},
     "output_type": "execute_result",
     "execution_count": 6
    }
   ],
   "source": [
    "image.shape"
   ]
  },
  {
   "cell_type": "code",
   "execution_count": 7,
   "metadata": {
    "pycharm": {
     "is_executing": false
    }
   },
   "outputs": [],
   "source": [
    "imagePaths = list(paths.list_images('test_images'))"
   ]
  },
  {
   "cell_type": "code",
   "execution_count": 8,
   "metadata": {
    "pycharm": {
     "is_executing": false
    }
   },
   "outputs": [],
   "source": [
    "tfeatures = []\n",
    "tknownNames = []"
   ]
  },
  {
   "cell_type": "code",
   "execution_count": 9,
   "metadata": {
    "pycharm": {
     "is_executing": false
    }
   },
   "outputs": [
    {
     "name": "stdout",
     "text": [
      "[INFO] processing image 1/24\n",
      "[INFO] processing image 2/24\n",
      "[INFO] processing image 3/24\n",
      "[INFO] processing image 4/24\n",
      "[INFO] processing image 5/24\n",
      "[INFO] processing image 6/24\n",
      "[INFO] processing image 7/24\n",
      "[INFO] processing image 8/24\n",
      "[INFO] processing image 9/24\n",
      "[INFO] processing image 10/24\n",
      "[INFO] processing image 11/24\n",
      "[INFO] processing image 12/24\n",
      "[INFO] processing image 13/24\n",
      "[INFO] processing image 14/24\n",
      "[INFO] processing image 15/24\n",
      "[INFO] processing image 16/24\n",
      "[INFO] processing image 17/24\n",
      "[INFO] processing image 18/24\n",
      "[INFO] processing image 19/24\n",
      "[INFO] processing image 20/24\n",
      "[INFO] processing image 21/24\n",
      "[INFO] processing image 22/24\n",
      "[INFO] processing image 23/24\n",
      "[INFO] processing image 24/24\n"
     ],
     "output_type": "stream"
    }
   ],
   "source": [
    "for (i, imagePath) in enumerate(imagePaths):\n",
    "    # extract the person name from the image path\n",
    "    print(\"[INFO] processing image {}/{}\".format(i + 1,len(imagePaths)))\n",
    "    name = imagePath.split(os.path.sep)[-2]\n",
    " \n",
    "    # load the input image \n",
    "    image = cv2.imread(imagePath)\n",
    "    #image = cv2.resize(image, (1040, 1520))\n",
    "\n",
    "    # detect the (x, y)-coordinates of the bounding boxes\n",
    "    # corresponding to each face in the input image\n",
    "    box = face_recognition.face_locations(image,number_of_times_to_upsample=0,model='hog')\n",
    "    \n",
    "    # compute the facial embedding for the face\n",
    "    if len(box) != 1:\n",
    "        # If there are no people (or too many people) in a training image, skip the image.\n",
    "        print(\"!!!!!!!error\",imagePath)\n",
    "    else:\n",
    "        fea = face_recognition.face_encodings(image, box)[0]\n",
    "        fea = np.asarray(fea,dtype=np.float32)\n",
    "        # add each image's features + name to our set of known names and features\n",
    "\n",
    "        tfeatures.append(fea)\n",
    "        tknownNames.append(name)"
   ]
  },
  {
   "cell_type": "code",
   "execution_count": 10,
   "metadata": {
    "pycharm": {
     "is_executing": false
    }
   },
   "outputs": [
    {
     "name": "stdout",
     "text": [
      "[INFO] serializing encodings...\nDone!\n"
     ],
     "output_type": "stream"
    }
   ],
   "source": [
    "print(\"[INFO] serializing encodings...\")\n",
    "data_test = {\"encodings\": tfeatures, \"names\": tknownNames}\n",
    "f = open('image_features\\\\features_test.pickle', \"wb\")\n",
    "f.write(pickle.dumps(data_test))\n",
    "f.close()\n",
    "print(\"Done!\")"
   ]
  },
  {
   "cell_type": "code",
   "execution_count": 11,
   "metadata": {
    "pycharm": {
     "is_executing": false
    }
   },
   "outputs": [
    {
     "data": {
      "text/plain": "['Luong',\n 'Luong',\n 'Luong',\n 'Luong',\n 'Luong',\n 'Luong',\n 'Luong',\n 'Luong',\n 'Luong',\n 'Luong',\n 'Luong',\n 'Luong',\n 'Luong',\n 'Luong',\n 'Luong',\n 'Luong',\n 'Luong',\n 'Luong',\n 'Luong',\n 'Luong',\n 'Luong',\n 'Luong',\n 'Luong',\n 'Luong',\n 'Luong',\n 'Luong',\n 'Luong',\n 'Luong',\n 'Luong',\n 'Luong',\n 'Luong',\n 'Luong',\n 'Luong',\n 'Luong',\n 'Luong',\n 'Luong',\n 'Luong',\n 'Luong',\n 'Luong',\n 'Luong',\n 'Luong',\n 'Luong',\n 'Luong',\n 'Luong',\n 'Luong',\n 'Luong',\n 'Unkown',\n 'Unkown',\n 'Unkown',\n 'Unkown',\n 'Unkown',\n 'Unkown',\n 'Unkown',\n 'Unkown',\n 'Unkown',\n 'Unkown',\n 'Unkown',\n 'Unkown',\n 'Unkown',\n 'Unkown',\n 'Unkown',\n 'Unkown',\n 'Unkown',\n 'Unkown',\n 'Unkown',\n 'Unkown',\n 'Unkown',\n 'Unkown',\n 'Unkown',\n 'Unkown',\n 'Unkown',\n 'Unkown',\n 'Unkown',\n 'Unkown',\n 'Unkown',\n 'Unkown',\n 'Unkown',\n 'Unkown',\n 'Unkown',\n 'Unkown',\n 'Unkown',\n 'Unkown',\n 'Unkown',\n 'Unkown',\n 'Unkown',\n 'Unkown',\n 'Unkown',\n 'Unkown',\n 'Unkown',\n 'Unkown',\n 'Unkown',\n 'Unkown']"
     },
     "metadata": {},
     "output_type": "execute_result",
     "execution_count": 11
    }
   ],
   "source": [
    "knownNames"
   ]
  },
  {
   "cell_type": "code",
   "execution_count": null,
   "metadata": {},
   "outputs": [],
   "source": []
  }
 ],
 "metadata": {
  "kernelspec": {
   "display_name": "Python 3",
   "language": "python",
   "name": "python3"
  },
  "language_info": {
   "codemirror_mode": {
    "name": "ipython",
    "version": 3
   },
   "file_extension": ".py",
   "mimetype": "text/x-python",
   "name": "python",
   "nbconvert_exporter": "python",
   "pygments_lexer": "ipython3",
   "version": "3.6.6"
  },
  "pycharm": {
   "stem_cell": {
    "cell_type": "raw",
    "source": [],
    "metadata": {
     "collapsed": false
    }
   }
  }
 },
 "nbformat": 4,
 "nbformat_minor": 2
}