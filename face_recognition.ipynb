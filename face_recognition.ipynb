{
 "cells": [
  {
   "cell_type": "code",
   "execution_count": 3,
   "metadata": {
    "pycharm": {
     "is_executing": false
    }
   },
   "outputs": [
    {
     "name": "stderr",
     "text": [
      "Using TensorFlow backend.\n"
     ],
     "output_type": "stream"
    }
   ],
   "source": [
    "import face_recognition\n",
    "import pickle\n",
    "import cv2\n",
    "import numpy as np\n",
    "from sklearn import svm\n",
    "from keras.preprocessing import image\n",
    "from keras_vggface import utils\n",
    "from sklearn import neighbors"
   ]
  },
  {
   "cell_type": "code",
   "execution_count": 3,
   "metadata": {
    "pycharm": {
     "is_executing": false
    }
   },
   "outputs": [
    {
     "name": "stdout",
     "text": [
      "[INFO] loading encodings...\nDone!\n"
     ],
     "output_type": "stream"
    }
   ],
   "source": [
    "# load the known faces and embeddings\n",
    "print(\"[INFO] loading encodings...\")\n",
    "data = pickle.loads(open('image_features\\\\features.pickle', \"rb\").read())\n",
    "print(\"Done!\") \n"
   ]
  },
  {
   "cell_type": "code",
   "execution_count": 6,
   "metadata": {
    "pycharm": {
     "is_executing": false
    }
   },
   "outputs": [
    {
     "name": "stdout",
     "text": [
      "----== Start training!\n---== Done training!\n"
     ],
     "output_type": "stream"
    }
   ],
   "source": [
    "#clf = neighbors.KNeighborsClassifier(n_neighbors=15, weights='distance')\n",
    "clf = svm.SVC(C=1.0, kernel=\"linear\", probability=True) \n",
    "\n",
    "x = np.array(data[\"encodings\"])\n",
    "names = np.array(data[\"names\"])\n",
    "\n",
    "#nsamples, nx, ny = x.shape\n",
    "#x_train = x.reshape((nsamples,nx*ny))\n",
    "\n",
    "\n",
    "print(\"----== Start training!\")\n",
    "clf.fit(x, names)\n",
    "\n",
    "print(\"---== Done training!\")"
   ]
  },
  {
   "cell_type": "code",
   "execution_count": 7,
   "metadata": {
    "pycharm": {
     "is_executing": false
    }
   },
   "outputs": [],
   "source": [
    "pickle.dump(clf, open('trained model\\\\knn.sav', 'wb'))"
   ]
  },
  {
   "cell_type": "code",
   "execution_count": 4,
   "metadata": {
    "pycharm": {
     "is_executing": false
    }
   },
   "outputs": [],
   "source": [
    "cl = pickle.load(open('trained model\\\\knn.sav', 'rb'))"
   ]
  },
  {
   "cell_type": "code",
   "execution_count": 5,
   "metadata": {
    "pycharm": {
     "is_executing": false
    }
   },
   "outputs": [],
   "source": [
    "data_test = pickle.loads(open('image_features\\\\features_test.pickle', \"rb\").read())\n",
    "x_test = np.array(data_test['encodings'])\n",
    "name_test = np.array(data_test['names'])"
   ]
  },
  {
   "cell_type": "code",
   "execution_count": 6,
   "metadata": {
    "pycharm": {
     "is_executing": false
    }
   },
   "outputs": [
    {
     "data": {
      "text/plain": "array(['Luong', 'Luong', 'Luong', 'Luong', 'Luong', 'Luong', 'Luong',\n       'Luong', 'Luong', 'Unkown', 'Unkown', 'Unkown', 'Unkown', 'Unkown',\n       'Unkown', 'Unkown', 'Unkown', 'Unkown', 'Unkown', 'Unkown',\n       'Unkown', 'Unkown', 'Unkown', 'Unkown'], dtype='<U6')"
     },
     "metadata": {},
     "output_type": "execute_result",
     "execution_count": 6
    }
   ],
   "source": [
    "cl.predict(x_test)"
   ]
  },
  {
   "cell_type": "code",
   "execution_count": 7,
   "metadata": {
    "pycharm": {
     "is_executing": false
    }
   },
   "outputs": [
    {
     "name": "stdout",
     "text": [
      "              precision    recall  f1-score   support\n\n       Luong       1.00      1.00      1.00         9\n      Unkown       1.00      1.00      1.00        15\n\n    accuracy                           1.00        24\n   macro avg       1.00      1.00      1.00        24\nweighted avg       1.00      1.00      1.00        24\n\n"
     ],
     "output_type": "stream"
    }
   ],
   "source": [
    "from sklearn.metrics import classification_report\n",
    "print(classification_report(name_test, cl.predict(x_test)))"
   ]
  },
  {
   "cell_type": "code",
   "execution_count": 11,
   "metadata": {
    "pycharm": {
     "is_executing": false
    }
   },
   "outputs": [
    {
     "name": "stdout",
     "text": [
      "nhan dc khuon mat\n"
     ],
     "output_type": "stream"
    }
   ],
   "source": [
    "#test on a image\n",
    "im = cv2.imread('test_images\\\\Luong\\\\11.jpg')\n",
    "image = cv2.resize(im, (1040, 1520)) \n",
    "# detect the (x, y)-coordinates of the bounding boxes\n",
    "# corresponding to each face in the input image\n",
    "box = face_recognition.face_locations(image,number_of_times_to_upsample=0,model='hog')\n",
    "\n",
    "# compute the facial embedding for the face\n",
    "if len(box) != 1:\n",
    "    # If there are no people (or too many people) in a training image, skip the image.\n",
    "    print(\"!!!!!!!error\")\n",
    "else:\n",
    "    fea = face_recognition.face_encodings(image, box)[0]\n",
    "    fea = np.asarray(fea,dtype=np.float32)\n",
    "    fea = np.reshape(fea, (1, -1))\n",
    "    print(\"nhan dc khuon mat\")"
   ]
  },
  {
   "cell_type": "code",
   "execution_count": 12,
   "metadata": {
    "pycharm": {
     "is_executing": false
    }
   },
   "outputs": [],
   "source": [
    "name = cl.predict(fea)[0]\n",
    "top = box[0][0]\n",
    "right = box[0][1]\n",
    "bottom = box[0][2]\n",
    "left = box [0][3]"
   ]
  },
  {
   "cell_type": "code",
   "execution_count": 14,
   "metadata": {
    "pycharm": {
     "is_executing": false
    }
   },
   "outputs": [],
   "source": [
    "im = cv2.resize(image, (520, 720)) \n",
    "cv2.rectangle(image, (left, top), (right, bottom), (0, 255, 0), 7)\n",
    "y = top - 15 if top - 15 > 15 else top + 15\n",
    "cv2.putText(image, name, (left, y), cv2.FONT_HERSHEY_SIMPLEX,2, (0, 255, 0), 4)\n",
    "\n",
    "cv2.imshow(\"Image\", im)\n",
    "cv2.imwrite(\"anh//\"\".jpg\", im)\n",
    "cv2.waitKey(0)\n",
    "cv2.destroyAllWindows()"
   ]
  },
  {
   "cell_type": "code",
   "execution_count": 15,
   "metadata": {
    "pycharm": {
     "is_executing": false
    }
   },
   "outputs": [
    {
     "data": {
      "text/plain": "912"
     },
     "metadata": {},
     "output_type": "execute_result",
     "execution_count": 15
    }
   ],
   "source": [
    "right"
   ]
  },
  {
   "cell_type": "code",
   "execution_count": null,
   "metadata": {},
   "outputs": [],
   "source": []
  }
 ],
 "metadata": {
  "kernelspec": {
   "display_name": "Python 3",
   "language": "python",
   "name": "python3"
  },
  "language_info": {
   "codemirror_mode": {
    "name": "ipython",
    "version": 3
   },
   "file_extension": ".py",
   "mimetype": "text/x-python",
   "name": "python",
   "nbconvert_exporter": "python",
   "pygments_lexer": "ipython3",
   "version": "3.7.3"
  },
  "pycharm": {
   "stem_cell": {
    "cell_type": "raw",
    "source": [],
    "metadata": {
     "collapsed": false
    }
   }
  }
 },
 "nbformat": 4,
 "nbformat_minor": 2
}